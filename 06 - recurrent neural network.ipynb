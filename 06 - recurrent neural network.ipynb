{
 "cells": [
  {
   "cell_type": "markdown",
   "metadata": {
    "colab_type": "text",
    "id": "2XxVA2NX4Bk4"
   },
   "source": [
    "**Preparing data:** Run the next cells to download and prepare the datasets and util functions."
   ]
  },
  {
   "cell_type": "code",
   "execution_count": 0,
   "metadata": {
    "colab": {},
    "colab_type": "code",
    "id": "6lvrFtuu4Bk8"
   },
   "outputs": [],
   "source": [
    "import sys\n",
    "download_data = False\n",
    "\n",
    "if 'google.colab' in sys.modules:\n",
    "    download_data = True"
   ]
  },
  {
   "cell_type": "code",
   "execution_count": 0,
   "metadata": {
    "colab": {},
    "colab_type": "code",
    "id": "OBV2I52c4BlK"
   },
   "outputs": [],
   "source": [
    "if download_data:\n",
    "    !wget --no-cache -O init.py -q https://raw.githubusercontent.com/DaielChom/ann-predict-future-sales/master/init.py\n",
    "    from init import download_utils, unzip_sales_dataset, dataset_dir\n",
    "    download_utils(force_download=True)"
   ]
  },
  {
   "cell_type": "code",
   "execution_count": null,
   "metadata": {
    "colab": {
     "base_uri": "https://localhost:8080/",
     "height": 454
    },
    "colab_type": "code",
    "executionInfo": {
     "elapsed": 10496,
     "status": "ok",
     "timestamp": 1590799825854,
     "user": {
      "displayName": "Daniel C. Patiño",
      "photoUrl": "https://lh3.googleusercontent.com/a-/AOh14GhuYPcjqZ6gijmbPiz1FSVDaCf_fMLnHD0MT8QeXCo=s64",
      "userId": "14576957363681081621"
     },
     "user_tz": 300
    },
    "id": "RMH7ukXd4BlX",
    "outputId": "4ac3f1d9-7740-4a15-9229-a135b5033129"
   },
   "outputs": [],
   "source": [
    "if download_data:\n",
    "    !mkdir ./local/datasets/\n",
    "    !wget --load-cookies /tmp/cookies.txt \"https://docs.google.com/uc?export=download&confirm=$(wget --quiet --save-cookies /tmp/cookies.txt --keep-session-cookies --no-check-certificate 'https://docs.google.com/uc?export=download&id=19208gOk2e6cpZ9dxtGF5HKHGYWn01VRo' -O- | sed -rn 's/.*confirm=([0-9A-Za-z_]+).*/\\1\\n/p')&id=19208gOk2e6cpZ9dxtGF5HKHGYWn01VRo\" -O local/datasets/sales.zip && rm -rf /tmp/cookies.txt"
   ]
  },
  {
   "cell_type": "code",
   "execution_count": 0,
   "metadata": {
    "colab": {},
    "colab_type": "code",
    "id": "bfOqf-yY4Bll"
   },
   "outputs": [],
   "source": [
    "if download_data:\n",
    "    unzip_sales_dataset()"
   ]
  },
  {
   "cell_type": "markdown",
   "metadata": {
    "colab_type": "text",
    "id": "gxjV-aXp4Blu"
   },
   "source": [
    "**Libraries**"
   ]
  },
  {
   "cell_type": "code",
   "execution_count": 0,
   "metadata": {
    "colab": {},
    "colab_type": "code",
    "id": "brfLnshP4Blw"
   },
   "outputs": [],
   "source": [
    "import random\n",
    "import numpy as np\n",
    "import progressbar\n",
    "import pandas as pd\n",
    "import matplotlib.pyplot as plt\n",
    "import local.lib as lib\n",
    "\n",
    "from tensorflow.keras.models import Sequential\n",
    "from tensorflow.keras.layers import Dense, Dropout, SimpleRNN, RepeatVector, TimeDistributed, LSTM, GRU\n",
    "\n",
    "from init import dataset_dir"
   ]
  },
  {
   "cell_type": "code",
   "execution_count": 0,
   "metadata": {
    "colab": {},
    "colab_type": "code",
    "id": "bwAAWShk4Bl4"
   },
   "outputs": [],
   "source": [
    "import warnings\n",
    "warnings.filterwarnings('ignore')"
   ]
  },
  {
   "cell_type": "code",
   "execution_count": 0,
   "metadata": {
    "colab": {},
    "colab_type": "code",
    "id": "psSGioon4BmA"
   },
   "outputs": [],
   "source": [
    "_, signals = lib.get_base_dataset(dataset_dir)"
   ]
  },
  {
   "cell_type": "code",
   "execution_count": 0,
   "metadata": {
    "colab": {},
    "colab_type": "code",
    "id": "d2uj1pDz4BmF"
   },
   "outputs": [],
   "source": [
    "month_to_predict = 4\n",
    "look_back = 3"
   ]
  },
  {
   "cell_type": "code",
   "execution_count": 0,
   "metadata": {
    "colab": {},
    "colab_type": "code",
    "id": "q4fc4pht4BmL"
   },
   "outputs": [],
   "source": [
    "signals = signals[:int(10734/2)]"
   ]
  },
  {
   "cell_type": "code",
   "execution_count": 0,
   "metadata": {
    "colab": {
     "base_uri": "https://localhost:8080/",
     "height": 34
    },
    "colab_type": "code",
    "executionInfo": {
     "elapsed": 13862860,
     "status": "ok",
     "timestamp": 1590813888304,
     "user": {
      "displayName": "Daniel C. Patiño",
      "photoUrl": "https://lh3.googleusercontent.com/a-/AOh14GhuYPcjqZ6gijmbPiz1FSVDaCf_fMLnHD0MT8QeXCo=s64",
      "userId": "14576957363681081621"
     },
     "user_tz": 300
    },
    "id": "NjV9kruU4BmV",
    "outputId": "04cc0761-4286-4efd-fcad-d18c7d6b9222",
    "scrolled": true
   },
   "outputs": [
    {
     "name": "stderr",
     "output_type": "stream",
     "text": [
      "100% (5367 of 5367) |####################| Elapsed Time: 3:51:01 Time:  3:51:01\n"
     ]
    }
   ],
   "source": [
    "results = {}\n",
    "summary = []\n",
    "\n",
    "for signal in progressbar.ProgressBar()(signals):\n",
    "    results.update({signal:{}})\n",
    "    \n",
    "    X_train, y_train, i_train, X_test, y_test, i_test = lib.get_split_signal_data(signal, month_to_predict, \n",
    "                                                                              look_back, dataset_dir,\n",
    "                                                                              reshape=True)\n",
    "    \n",
    "    \n",
    "    \n",
    "    model = Sequential()\n",
    "    model.add(SimpleRNN(20, activation = 'relu', input_shape=(1, look_back), return_sequences=True))\n",
    "    model.add(SimpleRNN(5, activation = 'relu'))\n",
    "    model.add(Dense(1))\n",
    "  \n",
    "    model.compile(optimizer='adam', loss='mse')\n",
    "\n",
    "    model.fit(X_train, y_train, verbose=0, epochs=10)\n",
    "    \n",
    "\n",
    "    tr_pred = model.predict(X_train)\n",
    "    ts_pred = model.predict(X_test)\n",
    "    \n",
    "    results[signal].update({\"train\":tr_pred})\n",
    "    results[signal].update({\"test\":ts_pred})\n",
    "    \n",
    "    tr_rmse = np.sqrt(((y_train - tr_pred)**2).mean())\n",
    "    ts_rmse = np.sqrt(((y_test - ts_pred)**2).mean())\n",
    "    \n",
    "    summary.append([tr_rmse, ts_rmse])"
   ]
  },
  {
   "cell_type": "code",
   "execution_count": 0,
   "metadata": {
    "colab": {},
    "colab_type": "code",
    "id": "X920OT_v4Bmd"
   },
   "outputs": [],
   "source": [
    "summary = pd.DataFrame(summary, columns=[\"train\", \"test\"], index=signals)\n"
   ]
  },
  {
   "cell_type": "code",
   "execution_count": 0,
   "metadata": {
    "colab": {
     "base_uri": "https://localhost:8080/",
     "height": 312
    },
    "colab_type": "code",
    "executionInfo": {
     "elapsed": 13862258,
     "status": "ok",
     "timestamp": 1590813888899,
     "user": {
      "displayName": "Daniel C. Patiño",
      "photoUrl": "https://lh3.googleusercontent.com/a-/AOh14GhuYPcjqZ6gijmbPiz1FSVDaCf_fMLnHD0MT8QeXCo=s64",
      "userId": "14576957363681081621"
     },
     "user_tz": 300
    },
    "id": "pMt4Fhx4F9Hz",
    "outputId": "8e4f0d4a-a84c-4f3a-ed5e-d95013e2fc97"
   },
   "outputs": [
    {
     "data": {
      "text/plain": [
       "Text(0.5, 0, 'rsme')"
      ]
     },
     "execution_count": 13,
     "metadata": {
      "tags": []
     },
     "output_type": "execute_result"
    },
    {
     "data": {
      "image/png": "[encoded data removed]",
      "text/plain": [
       "<Figure size 432x288 with 1 Axes>"
      ]
     },
     "metadata": {
      "needs_background": "light",
      "tags": []
     },
     "output_type": "display_data"
    }
   ],
   "source": [
    "summary.train.hist(bins=30, alpha=0.8, label=\"train\")\n",
    "summary.test.hist(bins=30, alpha=0.5, label=\"test\")\n",
    "plt.title(\"distribution of RSME for each signal\")\n",
    "plt.legend()\n",
    "plt.xlabel(\"rsme\")"
   ]
  },
  {
   "cell_type": "code",
   "execution_count": 0,
   "metadata": {
    "colab": {
     "base_uri": "https://localhost:8080/",
     "height": 69
    },
    "colab_type": "code",
    "executionInfo": {
     "elapsed": 13861622,
     "status": "ok",
     "timestamp": 1590813888901,
     "user": {
      "displayName": "Daniel C. Patiño",
      "photoUrl": "https://lh3.googleusercontent.com/a-/AOh14GhuYPcjqZ6gijmbPiz1FSVDaCf_fMLnHD0MT8QeXCo=s64",
      "userId": "14576957363681081621"
     },
     "user_tz": 300
    },
    "id": "83DhHFrB4Bm0",
    "outputId": "2bb950ab-e93d-4270-aebc-f9890c5a7840"
   },
   "outputs": [
    {
     "data": {
      "text/plain": [
       "train    3.748546\n",
       "test     0.984106\n",
       "dtype: float64"
      ]
     },
     "execution_count": 14,
     "metadata": {
      "tags": []
     },
     "output_type": "execute_result"
    }
   ],
   "source": [
    "summary.mean()"
   ]
  }
 ],
 "metadata": {
  "colab": {
   "collapsed_sections": [],
   "name": "06 - baseline.ipynb",
   "provenance": [
    {
     "file_id": "https://github.com/DaielChom/ann-predict-future-sales/blob/master/05%20-%20baseline.ipynb",
     "timestamp": 1590529829731
    }
   ]
  },
  "kernelspec": {
   "display_name": "Python 3",
   "language": "python",
   "name": "python3"
  },
  "language_info": {
   "codemirror_mode": {
    "name": "ipython",
    "version": 3
   },
   "file_extension": ".py",
   "mimetype": "text/x-python",
   "name": "python",
   "nbconvert_exporter": "python",
   "pygments_lexer": "ipython3",
   "version": "3.8.2"
  }
 },
 "nbformat": 4,
 "nbformat_minor": 1
}
