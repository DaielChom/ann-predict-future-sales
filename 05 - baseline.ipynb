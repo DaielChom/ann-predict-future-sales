{
 "cells": [
  {
   "cell_type": "markdown",
   "metadata": {},
   "source": [
    "**Preparing data:** Run the next cells to download and prepare the datasets and util functions."
   ]
  },
  {
   "cell_type": "code",
   "execution_count": 1,
   "metadata": {},
   "outputs": [],
   "source": [
    "import sys\n",
    "download_data = False\n",
    "\n",
    "if 'google.colab' in sys.modules:\n",
    "    download_data = True"
   ]
  },
  {
   "cell_type": "code",
   "execution_count": 2,
   "metadata": {},
   "outputs": [],
   "source": [
    "if download_data:\n",
    "    !wget --no-cache -O init.py -q https://raw.githubusercontent.com/DaielChom/ann_leaf_classification/master/init.py\n",
    "    from init import download_utils, unzip_leaf_dataset, dataset_dir\n",
    "    download_utils(force_download=False)"
   ]
  },
  {
   "cell_type": "code",
   "execution_count": 3,
   "metadata": {},
   "outputs": [],
   "source": [
    "if download_data:\n",
    "    !mkdir ./local/datasets/\n",
    "    !wget --load-cookies /tmp/cookies.txt \"https://docs.google.com/uc?export=download&confirm=$(wget --quiet --save-cookies /tmp/cookies.txt --keep-session-cookies --no-check-certificate 'https://docs.google.com/uc?export=download&id=19208gOk2e6cpZ9dxtGF5HKHGYWn01VRo' -O- | sed -rn 's/.*confirm=([0-9A-Za-z_]+).*/\\1\\n/p')&id=19208gOk2e6cpZ9dxtGF5HKHGYWn01VRo\" -O local/datasets/sales.zip && rm -rf /tmp/cookies.txt"
   ]
  },
  {
   "cell_type": "code",
   "execution_count": 4,
   "metadata": {},
   "outputs": [],
   "source": [
    "if download_data:\n",
    "    unzip_leaf_dataset()"
   ]
  },
  {
   "cell_type": "markdown",
   "metadata": {},
   "source": [
    "**Libraries**"
   ]
  },
  {
   "cell_type": "code",
   "execution_count": 5,
   "metadata": {},
   "outputs": [],
   "source": [
    "import random\n",
    "import numpy as np\n",
    "import progressbar\n",
    "import pandas as pd\n",
    "import matplotlib.pyplot as plt\n",
    "import local.lib as lib\n",
    "\n",
    "from sklearn.ensemble import RandomForestRegressor\n",
    "\n",
    "from init import dataset_dir"
   ]
  },
  {
   "cell_type": "code",
   "execution_count": 6,
   "metadata": {},
   "outputs": [],
   "source": [
    "import warnings\n",
    "warnings.filterwarnings('ignore')"
   ]
  },
  {
   "cell_type": "code",
   "execution_count": 7,
   "metadata": {},
   "outputs": [],
   "source": [
    "_, signals = lib.get_base_dataset(dataset_dir)"
   ]
  },
  {
   "cell_type": "code",
   "execution_count": 8,
   "metadata": {},
   "outputs": [],
   "source": [
    "month_to_predict = 4\n",
    "look_back = 3"
   ]
  },
  {
   "cell_type": "code",
   "execution_count": 11,
   "metadata": {},
   "outputs": [],
   "source": [
    "signals = signals[::900]"
   ]
  },
  {
   "cell_type": "code",
   "execution_count": 12,
   "metadata": {
    "scrolled": true
   },
   "outputs": [
    {
     "name": "stderr",
     "output_type": "stream",
     "text": [
      "100% |########################################################################|\n"
     ]
    }
   ],
   "source": [
    "results = {}\n",
    "summary = []\n",
    "\n",
    "for signal in progressbar.ProgressBar()(signals):\n",
    "    results.update({signal:{}})\n",
    "    \n",
    "    X_train, y_train, i_train, X_test, y_test, i_test = lib.get_split_signal_data(signal, month_to_predict, \n",
    "                                                                              look_back, dataset_dir,\n",
    "                                                                              reshape=False)\n",
    "    \n",
    "    model = RandomForestRegressor(max_depth=10, n_jobs=-1)\n",
    "    model.fit(X_train, y_train)\n",
    "    \n",
    "    tr_pred = model.predict(X_train)\n",
    "    ts_pred = model.predict(X_test)\n",
    "    \n",
    "    results[signal].update({\"train\":tr_pred})\n",
    "    results[signal].update({\"test\":ts_pred})\n",
    "    \n",
    "    tr_rmse = np.sqrt(((y_train - tr_pred)**2).mean())\n",
    "    ts_rmse = np.sqrt(((y_test - ts_pred)**2).mean())\n",
    "    \n",
    "    summary.append([tr_rmse, ts_rmse])"
   ]
  },
  {
   "cell_type": "code",
   "execution_count": 13,
   "metadata": {},
   "outputs": [],
   "source": [
    "summary = pd.DataFrame(summary, columns=[\"train\", \"test\"], index=signals)"
   ]
  },
  {
   "cell_type": "code",
   "execution_count": 14,
   "metadata": {},
   "outputs": [
    {
     "data": {
      "text/html": [
       "<div>\n",
       "<style scoped>\n",
       "    .dataframe tbody tr th:only-of-type {\n",
       "        vertical-align: middle;\n",
       "    }\n",
       "\n",
       "    .dataframe tbody tr th {\n",
       "        vertical-align: top;\n",
       "    }\n",
       "\n",
       "    .dataframe thead th {\n",
       "        text-align: right;\n",
       "    }\n",
       "</style>\n",
       "<table border=\"1\" class=\"dataframe\">\n",
       "  <thead>\n",
       "    <tr style=\"text-align: right;\">\n",
       "      <th></th>\n",
       "      <th>train</th>\n",
       "      <th>test</th>\n",
       "    </tr>\n",
       "  </thead>\n",
       "  <tbody>\n",
       "    <tr>\n",
       "      <th>2_32</th>\n",
       "      <td>0.467544</td>\n",
       "      <td>0.567647</td>\n",
       "    </tr>\n",
       "    <tr>\n",
       "      <th>38_1856</th>\n",
       "      <td>1.616511</td>\n",
       "      <td>0.125747</td>\n",
       "    </tr>\n",
       "    <tr>\n",
       "      <th>18_2946</th>\n",
       "      <td>0.482891</td>\n",
       "      <td>0.370981</td>\n",
       "    </tr>\n",
       "    <tr>\n",
       "      <th>35_3686</th>\n",
       "      <td>0.475005</td>\n",
       "      <td>0.106000</td>\n",
       "    </tr>\n",
       "    <tr>\n",
       "      <th>14_4779</th>\n",
       "      <td>0.872837</td>\n",
       "      <td>0.000000</td>\n",
       "    </tr>\n",
       "  </tbody>\n",
       "</table>\n",
       "</div>"
      ],
      "text/plain": [
       "            train      test\n",
       "2_32     0.467544  0.567647\n",
       "38_1856  1.616511  0.125747\n",
       "18_2946  0.482891  0.370981\n",
       "35_3686  0.475005  0.106000\n",
       "14_4779  0.872837  0.000000"
      ]
     },
     "execution_count": 14,
     "metadata": {},
     "output_type": "execute_result"
    }
   ],
   "source": [
    "summary.head()"
   ]
  },
  {
   "cell_type": "code",
   "execution_count": 15,
   "metadata": {},
   "outputs": [
    {
     "data": {
      "text/plain": [
       "<matplotlib.axes._subplots.AxesSubplot at 0x7ff6efff2a00>"
      ]
     },
     "execution_count": 15,
     "metadata": {},
     "output_type": "execute_result"
    },
    {
     "data": {
      "image/png": "[encoded data removed]",
      "text/plain": [
       "<Figure size 432x288 with 1 Axes>"
      ]
     },
     "metadata": {
      "needs_background": "light"
     },
     "output_type": "display_data"
    }
   ],
   "source": [
    "summary.train.hist(bins=20)\n",
    "summary.test.hist(bins=20)"
   ]
  },
  {
   "cell_type": "code",
   "execution_count": null,
   "metadata": {},
   "outputs": [],
   "source": []
  }
 ],
 "metadata": {
  "kernelspec": {
   "display_name": "Python 3",
   "language": "python",
   "name": "python3"
  },
  "language_info": {
   "codemirror_mode": {
    "name": "ipython",
    "version": 3
   },
   "file_extension": ".py",
   "mimetype": "text/x-python",
   "name": "python",
   "nbconvert_exporter": "python",
   "pygments_lexer": "ipython3",
   "version": "3.8.2"
  }
 },
 "nbformat": 4,
 "nbformat_minor": 4
}
